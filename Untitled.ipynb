{
 "cells": [
  {
   "cell_type": "code",
   "execution_count": null,
   "id": "0507b80c",
   "metadata": {},
   "outputs": [],
   "source": [
    "#test"
   ]
  },
  {
   "cell_type": "code",
   "execution_count": 5,
   "id": "510bd0d0",
   "metadata": {},
   "outputs": [],
   "source": [
    "from flask import Flask, request\n",
    "from flask import render_template\n",
    "from flask import Response\n",
    "import joblib\n",
    "import sys\n",
    "sys.modules['sklearn.externals.joblib'] = joblib"
   ]
  },
  {
   "cell_type": "code",
   "execution_count": 4,
   "id": "09a5a204",
   "metadata": {},
   "outputs": [
    {
     "name": "stdout",
     "output_type": "stream",
     "text": [
      " * Serving Flask app \"__main__\" (lazy loading)\n",
      " * Environment: production\n",
      "\u001b[31m   WARNING: This is a development server. Do not use it in a production deployment.\u001b[0m\n",
      "\u001b[2m   Use a production WSGI server instead.\u001b[0m\n",
      " * Debug mode: on\n"
     ]
    },
    {
     "name": "stderr",
     "output_type": "stream",
     "text": [
      " * Running on http://localhost:8080/ (Press CTRL+C to quit)\n",
      " * Restarting with inotify reloader\n"
     ]
    },
    {
     "ename": "SystemExit",
     "evalue": "1",
     "output_type": "error",
     "traceback": [
      "An exception has occurred, use %tb to see the full traceback.\n",
      "\u001b[0;31mSystemExit\u001b[0m\u001b[0;31m:\u001b[0m 1\n"
     ]
    }
   ],
   "source": [
    "from flask import Flask, request\n",
    "from flask import render_template\n",
    "from flask import Response\n",
    "import joblib\n",
    "import os\n",
    "import sys\n",
    "sys.modules['sklearn.externals.joblib'] = joblib\n",
    "\n",
    "\n",
    "app = Flask(__name__)\n",
    "endpoint = '/api/fakedetector'\n",
    "\n",
    "\n",
    "\n",
    "filename = 'pipeline1.sav'\n",
    "loadedModel = joblib.load(filename)\n",
    "@app.route(endpoint, methods=[\"GET\", \"POST\"])\n",
    "def detector():\n",
    "    if request.method =='GET':\n",
    "        text = request.args.get('text')\n",
    "        text = loadedCount.transform([text]).toarray()\n",
    "        p = loadedModel.predict_proba(mail)[0]\n",
    "        if p==-1:\n",
    "            print('fake')\n",
    "            return {'fake':1,'truth':0}\n",
    "        else:\n",
    "            print('true')\n",
    "            return {'fake':0,'truth':1}\n",
    "    if request.method == 'POST':\n",
    "        #print(request.get_json())\n",
    "        mail = request.get_json()['mail']\n",
    "        mail = loadedCount.transform([mail]).toarray()\n",
    "        p = loadedModel.predict_proba(mail)[0]\n",
    "        print('% spam = ', p[0])\n",
    "        print('% ham = ', p[1])\n",
    "        res= {'%Spam':p[0],'%ham':p[1]}\n",
    "        return res\n",
    "    return True\n",
    "\n",
    "@app.route(\"/\", methods=['GET', 'POST'])\n",
    "def main_page():\n",
    "    opts = {}\n",
    "    if request.method == 'GET':\n",
    "        return render_template('main_page.html', opts=opts)\n",
    "    \n",
    "\n",
    "if __name__ == '__main__':\n",
    "    app.run(port=8080, debug=True, host='localhost')\n",
    "# if __name__ == \"__main__\":\n",
    "#     # Bind to PORT if defined, otherwise default to 5000.\n",
    "#     port = int(os.environ.get('PORT', 5000))\n",
    "#     if port == 5000:\n",
    "#         app.debug = True\n",
    "#     app.run(host='0.0.0.0', port=port)"
   ]
  },
  {
   "cell_type": "code",
   "execution_count": 8,
   "id": "c50917c9",
   "metadata": {
    "scrolled": true
   },
   "outputs": [
    {
     "name": "stdout",
     "output_type": "stream",
     "text": [
      "[-1]\n"
     ]
    }
   ],
   "source": [
    "filename = 'pipeline1.sav'\n",
    "loadedModel = joblib.load(filename)\n",
    "p=loadedModel.predict([\"Le président de l’Offre orange Hilaire Kamga remercie le président américain Joe Biden qui a octroyé aux camerounais fuyant les violences au Nord-Ouest et au Sud-Ouest, le statut de protection temporaire.L’homme politique Hilaire Kamga a tenu à exprimer sa gratitude envers le président Joe Biden, dont l’administration vient de décider d’octroyer aux immigrés camerounais le statut temporaire de protection pour une période de 18 mois. Soulignons que ledit statut sera accordé uniquement aux camerounais qui ont fui la crise anglophone. Ceux des camerounais qui étaient déjà au pays de l’oncle Sam avant le 14 avril 2022 seront également éligibles à cette mesure. Pour le président de l’Offre orange, c’est un acte fort que Joe Biden a posé.  «Les déplacées internes comme les déplacées externes (demandeurs d’asile ) suite à la guerre du NoSo ont besoin du soutien de tous. En accordant une attention particulière au Camerounais qui ont fuit cette guerre pour chercher refuge aux USA. Le président Biden a posé un acte fort. Merci», a-t-il écrit sur sa page Facebook\"])\n",
    "print(p)"
   ]
  }
 ],
 "metadata": {
  "kernelspec": {
   "display_name": "Python 3",
   "language": "python",
   "name": "python3"
  },
  "language_info": {
   "codemirror_mode": {
    "name": "ipython",
    "version": 3
   },
   "file_extension": ".py",
   "mimetype": "text/x-python",
   "name": "python",
   "nbconvert_exporter": "python",
   "pygments_lexer": "ipython3",
   "version": "3.8.8"
  }
 },
 "nbformat": 4,
 "nbformat_minor": 5
}
